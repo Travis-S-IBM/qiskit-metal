{
 "cells": [
  {
   "cell_type": "markdown",
   "source": [
    "## Optimize toward specific resonator length (estimate)"
   ],
   "metadata": {
    "collapsed": false
   }
  },
  {
   "cell_type": "code",
   "execution_count": 34,
   "metadata": {},
   "outputs": [],
   "source": [
    "from qiskit_metal.analyses.em.cpw_calculations import guided_wavelength\n",
    "from qiskit_metal.analyses.optimization.optimization_methods import adadelta_gradient_descent_optimization"
   ]
  },
  {
   "cell_type": "code",
   "execution_count": 35,
   "metadata": {
    "pycharm": {
     "name": "#%%\n"
    }
   },
   "outputs": [
    {
     "name": "stdout",
     "output_type": "stream",
     "text": [
      "<class 'int'>\n"
     ]
    }
   ],
   "source": [
    "def objective(r, desired_value, output):\n",
    "\n",
    "    #find_resonator_length(\"mm\"; r = [frequency line_width line_gap N]) =>\n",
    "    #frequency in GHz\n",
    "    #line_width/line_gap in um\n",
    "    #N -> 2 for lambda/2, 4 for lambda/4\n",
    "\n",
    "    frequency = r[0]\n",
    "    line_width = r[1]\n",
    "    line_gap = r[2]\n",
    "    N = r[3]\n",
    "    lambdaG = guided_wavelength(frequency*10**9, line_width*10**-6, line_gap*10**-6, 750*10**-6, 200*10**-9)[0]\n",
    "    length = lambdaG/N*10**3\n",
    "    f = length\n",
    "\n",
    "# **** MANDATORY STATEMENTS ****\n",
    "\n",
    "    #f = ....\n",
    "    f = length\n",
    "\n",
    "    #if output == \"abs\": ....\n",
    "    if output == \"abs\":\n",
    "        return abs(desired_value - f)\n",
    "\n",
    "    #elif output == \"true\": ....\n",
    "    elif output == \"true\":\n",
    "        return f"
   ]
  },
  {
   "cell_type": "code",
   "execution_count": 36,
   "outputs": [],
   "source": [
    "#find_resonator_length(\"mm\"; r = [frequency line_width line_gap N]) =>\n",
    "desired_value = 25# mm\n",
    "initial_conditions = [5, 50, 10, 10]\n",
    "bounds = [[0, 10.0], [0, 60.0], [0, 20.0], [0, 20.0]]\n"
   ],
   "metadata": {
    "collapsed": false,
    "pycharm": {
     "name": "#%%\n"
    }
   }
  },
  {
   "cell_type": "code",
   "execution_count": 37,
   "outputs": [
    {
     "name": "stdout",
     "output_type": "stream",
     "text": [
      "\n",
      ">Solution: f([ 0.73376367 49.4976476   7.146151    6.59933348]) = 24.99997; Percentage from desired value = 0.00012\n"
     ]
    }
   ],
   "source": [
    "[solutions,\n",
    "solution_evaluations,\n",
    "solution,\n",
    "solution_evaluation,\n",
    "percentage_error] = adadelta_gradient_descent_optimization(initial_conditions,\n",
    "                                                        desired_value,\n",
    "                                                        bounds,\n",
    "                                                        objective,\n",
    "                                                        num_inter=10000,\n",
    "                                                        valued_percentage=\"0.0001%\",\n",
    "                                                        #valued_percentage=\"50%\",\n",
    "                                                        )"
   ],
   "metadata": {
    "collapsed": false,
    "pycharm": {
     "name": "#%%\n"
    }
   }
  }
 ],
 "metadata": {
  "kernelspec": {
   "display_name": "Python 3",
   "language": "python",
   "name": "python3"
  },
  "language_info": {
   "codemirror_mode": {
    "name": "ipython",
    "version": 3
   },
   "file_extension": ".py",
   "mimetype": "text/x-python",
   "name": "python",
   "nbconvert_exporter": "python",
   "pygments_lexer": "ipython3",
   "version": "3.8.5"
  }
 },
 "nbformat": 4,
 "nbformat_minor": 1
}